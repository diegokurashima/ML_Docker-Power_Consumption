{
 "cells": [
  {
   "cell_type": "code",
   "execution_count": 1,
   "id": "e56ab6cc",
   "metadata": {},
   "outputs": [],
   "source": [
    "import os\n",
    "import pandas as pd\n",
    "import pickle\n",
    "from fastapi import FastAPI\n",
    "import datetime as datetime\n",
    "\n",
    "import xgboost as xgb\n",
    "import sklearn"
   ]
  },
  {
   "cell_type": "code",
   "execution_count": 2,
   "id": "9dbee442",
   "metadata": {},
   "outputs": [],
   "source": [
    "path_model = '../training/model.pkl'\n",
    "\n",
    "with open(path_model, 'rb') as f:\n",
    "    model = pickle.load(f)"
   ]
  },
  {
   "cell_type": "code",
   "execution_count": 3,
   "id": "b4434571",
   "metadata": {},
   "outputs": [],
   "source": [
    "def create_features_Datetime(df_input):\n",
    "    '''\n",
    "    Create datetime features for \"Datetime\" column\n",
    "    '''\n",
    "    \n",
    "    df = df_input.copy()\n",
    "\n",
    "    # Standard Datetime Features\n",
    "    df['Year'] = df.index.year\n",
    "    df['Quarter'] = df.index.quarter\n",
    "    df['Month'] = df.index.month\n",
    "    df['Day'] = df.index.day\n",
    "    df['Hour'] = df.index.hour\n",
    "\n",
    "    df['Day_of_Year'] = df.index.dayofyear\n",
    "\n",
    "    df['Weekday'] = df.index.weekday\n",
    "    df['Is_Weekend'] =  df.index.day_name().isin(['Saturday', 'Sunday'])\n",
    "\n",
    "    return df\n",
    "\n",
    "def predict(year, month, day, hour):\n",
    "\n",
    "    dt = datetime.datetime(int(year), int(month), int(day), int(hour))\n",
    "\n",
    "    # Dataframe\n",
    "    df = pd.DataFrame({\"Datetime\": [dt]})\n",
    "    df['Datetime'] = pd.to_datetime(df['Datetime'])\n",
    "    df = df.set_index(\"Datetime\")\n",
    "\n",
    "    data = create_features_Datetime(df)\n",
    "\n",
    "    cols_train = ['Quarter', 'Month', 'Day', 'Hour', 'Day_of_Year', 'Weekday', 'Is_Weekend']\n",
    "    data = data[cols_train]\n",
    "    \n",
    "    prediction_result = model.predict(data)\n",
    "    prediction = float(prediction_result[0])\n",
    "    return {'prediction': prediction}"
   ]
  },
  {
   "cell_type": "code",
   "execution_count": 5,
   "id": "0ac19c68",
   "metadata": {},
   "outputs": [
    {
     "data": {
      "text/plain": [
       "{'prediction': 30922.98828125}"
      ]
     },
     "execution_count": 5,
     "metadata": {},
     "output_type": "execute_result"
    }
   ],
   "source": [
    "predict(2026, 5, 12, 8)"
   ]
  }
 ],
 "metadata": {
  "kernelspec": {
   "display_name": "Python 3",
   "language": "python",
   "name": "python3"
  },
  "language_info": {
   "codemirror_mode": {
    "name": "ipython",
    "version": 3
   },
   "file_extension": ".py",
   "mimetype": "text/x-python",
   "name": "python",
   "nbconvert_exporter": "python",
   "pygments_lexer": "ipython3",
   "version": "3.11.9"
  }
 },
 "nbformat": 4,
 "nbformat_minor": 5
}
